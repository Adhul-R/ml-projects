{
  "nbformat": 4,
  "nbformat_minor": 0,
  "metadata": {
    "colab": {
      "provenance": [],
      "authorship_tag": "ABX9TyOPggO97+I1sZy0WimX7bnt",
      "include_colab_link": true
    },
    "kernelspec": {
      "name": "python3",
      "display_name": "Python 3"
    },
    "language_info": {
      "name": "python"
    }
  },
  "cells": [
    {
      "cell_type": "markdown",
      "metadata": {
        "id": "view-in-github",
        "colab_type": "text"
      },
      "source": [
        "<a href=\"https://colab.research.google.com/github/Adhul-R/ml-projects/blob/main/Earthquake_Prediciton.ipynb\" target=\"_parent\"><img src=\"https://colab.research.google.com/assets/colab-badge.svg\" alt=\"Open In Colab\"/></a>"
      ]
    },
    {
      "cell_type": "code",
      "execution_count": 10,
      "metadata": {
        "colab": {
          "base_uri": "https://localhost:8080/"
        },
        "id": "WB2jehOi5khM",
        "outputId": "64bf3d4d-6f98-437c-e8ed-6f6ec213250f"
      },
      "outputs": [
        {
          "output_type": "stream",
          "name": "stdout",
          "text": [
            "Training until validation scores don't improve for 30 rounds\n",
            "Did not meet early stopping. Best iteration is:\n",
            "[285]\tvalid_0's binary_logloss: 0.000533579\n",
            "\n",
            " Model Accuracy: 99.96%\n",
            " Classification Report:\n",
            "               precision    recall  f1-score   support\n",
            "\n",
            "           0       1.00      1.00      1.00      3938\n",
            "           1       1.00      1.00      1.00       610\n",
            "\n",
            "    accuracy                           1.00      4548\n",
            "   macro avg       1.00      1.00      1.00      4548\n",
            "weighted avg       1.00      1.00      1.00      4548\n",
            "\n",
            "Confusion Matrix:\n",
            " [[3936    2]\n",
            " [   0  610]]\n"
          ]
        }
      ],
      "source": [
        "import pandas as pd\n",
        "import numpy as np\n",
        "import lightgbm as lgb\n",
        "from sklearn.model_selection import train_test_split, StratifiedKFold\n",
        "from sklearn.metrics import accuracy_score, classification_report, confusion_matrix\n",
        "from sklearn.preprocessing import LabelEncoder\n",
        "\n",
        "# Load and prepare the data\n",
        "data = pd.read_csv('/content/Earthquakes_Dataset.csv')\n",
        "\n",
        "# Create label column\n",
        "data['label'] = data['mag'].apply(lambda x: 1 if x >= 4.0 else 0)\n",
        "\n",
        "# Drop columns that won’t help directly\n",
        "data = data.drop(columns=['place', 'time'])\n",
        "\n",
        "# Encode categorical columns\n",
        "cat_cols = ['magType', 'type', 'net']\n",
        "encoders = {}\n",
        "for col in cat_cols:\n",
        "    le = LabelEncoder()\n",
        "    data[col] = le.fit_transform(data[col].astype(str))\n",
        "    encoders[col] = le  # save for inverse_transform later\n",
        "\n",
        "# Features and target\n",
        "X = data.drop(columns=['label'])\n",
        "y = data['label']\n",
        "\n",
        "# Split for testing\n",
        "X_train, X_test, y_train, y_test = train_test_split(\n",
        "    X, y, test_size=0.2, stratify=y, random_state=42\n",
        ")\n",
        "\n",
        "# LightGBM parameters tuned to avoid overfitting\n",
        "params = {\n",
        "    'objective': 'binary',\n",
        "    'boosting_type': 'gbdt',\n",
        "    'metric': 'binary_logloss',\n",
        "    'learning_rate': 0.05,\n",
        "    'max_depth': 6,\n",
        "    'num_leaves': 20,\n",
        "    'feature_fraction': 0.7,\n",
        "    'bagging_fraction': 0.7,\n",
        "    'bagging_freq': 3,\n",
        "    'lambda_l1': 1.0,\n",
        "    'lambda_l2': 1.0,\n",
        "    'verbose': -1,\n",
        "    'random_state': 42\n",
        "}\n",
        "\n",
        "# Train model using early stopping and validation set\n",
        "train_data = lgb.Dataset(X_train, label=y_train)\n",
        "valid_data = lgb.Dataset(X_test, label=y_test)\n",
        "\n",
        "model = lgb.train(\n",
        "    params,\n",
        "    train_data,\n",
        "    num_boost_round=300,\n",
        "    valid_sets=[valid_data],\n",
        "    callbacks=[lgb.early_stopping(30), lgb.log_evaluation(0)]\n",
        ")\n",
        "\n",
        "# Predict\n",
        "y_pred_prob = model.predict(X_test)\n",
        "y_pred = (y_pred_prob > 0.5).astype(int)\n",
        "\n",
        "# Accuracy\n",
        "accuracy = accuracy_score(y_test, y_pred)\n",
        "print(f\"\\n Model Accuracy: {accuracy * 100:.2f}%\")\n",
        "print(\" Classification Report:\\n\", classification_report(y_test, y_pred))\n",
        "print(\"Confusion Matrix:\\n\", confusion_matrix(y_test, y_pred))\n"
      ]
    },
    {
      "cell_type": "code",
      "source": [
        "# 📥 Example Input (Test Case)\n",
        "test_input = {\n",
        "    'mag': 2.56,\n",
        "    'magType': 'md',\n",
        "    'type': 'earthquake',\n",
        "    'longitude': -125.6143341,\n",
        "    'latitude': 40.21649933,\n",
        "    'depth_km': 4.95,\n",
        "    'sig': 101,\n",
        "    'net': 'nc',\n",
        "    'nst': 14,\n",
        "    'dmin': 0.976,\n",
        "    'rms': 0.12,\n",
        "    'gap': 325\n",
        "}\n",
        "\n",
        "# 🧪 Run prediction\n",
        "print(\"\\n📌 Prediction on Test Input:\")\n",
        "print(predict_earthquake(test_input))"
      ],
      "metadata": {
        "colab": {
          "base_uri": "https://localhost:8080/"
        },
        "id": "FCQPupcL9JY4",
        "outputId": "2090af79-56d9-4692-a25d-34879712a580"
      },
      "execution_count": 16,
      "outputs": [
        {
          "output_type": "stream",
          "name": "stdout",
          "text": [
            "\n",
            "📌 Prediction on Test Input:\n",
            "✅ No major earthquake expected.\n"
          ]
        }
      ]
    },
    {
      "cell_type": "code",
      "source": [
        "test_input = {\n",
        "    'mag': 5.6,                         # High magnitude (≥ 4.0)\n",
        "    'magType': 'mb',                   # Common magType (change as per dataset)\n",
        "    'type': 'earthquake',             # Typical type\n",
        "    'longitude': 93.45,\n",
        "    'latitude': 27.98,\n",
        "    'depth_km': 10.0,                 # Shallow depth, often more dangerous\n",
        "    'sig': 600,                        # High significance\n",
        "    'net': 'us',                       # USGS network, change to match training data\n",
        "    'nst': 45,                         # Number of stations\n",
        "    'dmin': 0.3,                       # Closer to station\n",
        "    'rms': 0.45,                       # Root mean square of signal\n",
        "    'gap': 75                          # Azimuthal gap\n",
        "}\n",
        "# 🧪 Run prediction\n",
        "print(\"\\n📌 Prediction on Test Input:\")\n",
        "print(predict_earthquake(test_input))\n"
      ],
      "metadata": {
        "colab": {
          "base_uri": "https://localhost:8080/"
        },
        "id": "Qp4L2qq29bV8",
        "outputId": "65dab9e4-bf5b-4760-d6f2-c0ccde3f47af"
      },
      "execution_count": 17,
      "outputs": [
        {
          "output_type": "stream",
          "name": "stdout",
          "text": [
            "\n",
            "📌 Prediction on Test Input:\n",
            "⚠️ Earthquake likely!\n"
          ]
        }
      ]
    }
  ]
}